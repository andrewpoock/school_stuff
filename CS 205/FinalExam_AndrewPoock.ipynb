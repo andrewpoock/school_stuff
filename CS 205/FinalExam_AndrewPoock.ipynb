{
 "cells": [
  {
   "cell_type": "markdown",
   "metadata": {},
   "source": [
    "# CS 205 Final Exam\n",
    "## You may use your books (both R and Python) and the Internet. You can NOT use help directly from another person! You may send me e-mail to ask questions or contact me during office hours (9-11 am Tuesday and Wednesday).\n",
    "\n",
    "# _This is a reminder of your obligation to the Honor Code_"
   ]
  },
  {
   "cell_type": "markdown",
   "metadata": {},
   "source": [
    "**Enter your name here: Andrew Poock**"
   ]
  },
  {
   "cell_type": "markdown",
   "metadata": {},
   "source": [
    "In the 1980s, the [National Cancer Institute](http://cancer.gov) developed a set of 60 cancer cell lines, called [NCI60](http://www.broadinstitute.org/mpr/NCI60/NCI60.html). The original purpose was for screening potential anti-cancer drugs. Here you will examine gene expresion in these cell lines. More than 41,000 probes were used for each of the 60 cell lines. For convenience, the data are provided in `NCI60.csv` and `NCI60cells.csv`.<p/>\n",
    "`NCI60` is somewhat large -- 41,078 probes by 60 cell lines. Each of these 2,454,680 entries is a measure of how much a particular gene was expressed in one cell line.<p/>\n",
    "One clue that a gene is linked to cancer is differences in expression of that gene from one cancer type to another. Here's the wrangling involved in extracting the expression of TOP3A for each cell line.\n"
   ]
  },
  {
   "cell_type": "code",
   "execution_count": 346,
   "metadata": {},
   "outputs": [],
   "source": [
    "import pandas as pd\n",
    "import numpy as np\n",
    "import matplotlib.pyplot as plt\n",
    "from plotnine import *"
   ]
  },
  {
   "cell_type": "markdown",
   "metadata": {},
   "source": [
    "_Insert a line of code to read NCI60.csv into a dataframe named_ `Narrow`."
   ]
  },
  {
   "cell_type": "code",
   "execution_count": 347,
   "metadata": {},
   "outputs": [],
   "source": [
    "Narrow = pd.read_csv(\"NCI60.csv\")"
   ]
  },
  {
   "cell_type": "markdown",
   "metadata": {},
   "source": [
    "_Insert a line of code to visually inspect or verify the structure and data of_ `Narrow`"
   ]
  },
  {
   "cell_type": "code",
   "execution_count": 348,
   "metadata": {},
   "outputs": [
    {
     "data": {
      "text/html": [
       "<div>\n",
       "<style scoped>\n",
       "    .dataframe tbody tr th:only-of-type {\n",
       "        vertical-align: middle;\n",
       "    }\n",
       "\n",
       "    .dataframe tbody tr th {\n",
       "        vertical-align: top;\n",
       "    }\n",
       "\n",
       "    .dataframe thead th {\n",
       "        text-align: right;\n",
       "    }\n",
       "</style>\n",
       "<table border=\"1\" class=\"dataframe\">\n",
       "  <thead>\n",
       "    <tr style=\"text-align: right;\">\n",
       "      <th></th>\n",
       "      <th>i</th>\n",
       "      <th>Probe</th>\n",
       "      <th>BR.MCF7</th>\n",
       "      <th>BR.MDA_MB_231</th>\n",
       "      <th>BR.HS578T</th>\n",
       "      <th>BR.BT_549</th>\n",
       "      <th>BR.T47D</th>\n",
       "      <th>CNS.SF_268</th>\n",
       "      <th>CNS.SF_295</th>\n",
       "      <th>CNS.SF_539</th>\n",
       "      <th>...</th>\n",
       "      <th>PR.PC_3</th>\n",
       "      <th>PR.DU_145</th>\n",
       "      <th>RE.786_0</th>\n",
       "      <th>RE.A498</th>\n",
       "      <th>RE.ACHN</th>\n",
       "      <th>RE.CAKI_1</th>\n",
       "      <th>RE.RXF_393</th>\n",
       "      <th>RE.SN12C</th>\n",
       "      <th>RE.TK_10</th>\n",
       "      <th>RE.UO_31</th>\n",
       "    </tr>\n",
       "  </thead>\n",
       "  <tbody>\n",
       "    <tr>\n",
       "      <th>0</th>\n",
       "      <td>1</td>\n",
       "      <td>AT_D_3</td>\n",
       "      <td>-7.45</td>\n",
       "      <td>-7.51</td>\n",
       "      <td>-7.30</td>\n",
       "      <td>-7.37</td>\n",
       "      <td>-6.15</td>\n",
       "      <td>-7.16</td>\n",
       "      <td>-7.03</td>\n",
       "      <td>-7.44</td>\n",
       "      <td>...</td>\n",
       "      <td>-6.88</td>\n",
       "      <td>-6.78</td>\n",
       "      <td>-7.25</td>\n",
       "      <td>-7.17</td>\n",
       "      <td>-6.51</td>\n",
       "      <td>-6.66</td>\n",
       "      <td>-6.53</td>\n",
       "      <td>-6.86</td>\n",
       "      <td>-7.03</td>\n",
       "      <td>-6.85</td>\n",
       "    </tr>\n",
       "    <tr>\n",
       "      <th>1</th>\n",
       "      <td>2</td>\n",
       "      <td>AT_D_5</td>\n",
       "      <td>-7.05</td>\n",
       "      <td>-6.62</td>\n",
       "      <td>-6.88</td>\n",
       "      <td>-6.78</td>\n",
       "      <td>-7.18</td>\n",
       "      <td>-7.25</td>\n",
       "      <td>-7.22</td>\n",
       "      <td>-7.37</td>\n",
       "      <td>...</td>\n",
       "      <td>-6.27</td>\n",
       "      <td>-7.04</td>\n",
       "      <td>-6.68</td>\n",
       "      <td>-6.83</td>\n",
       "      <td>-6.65</td>\n",
       "      <td>-6.61</td>\n",
       "      <td>-6.23</td>\n",
       "      <td>-6.74</td>\n",
       "      <td>-6.85</td>\n",
       "      <td>-6.67</td>\n",
       "    </tr>\n",
       "    <tr>\n",
       "      <th>2</th>\n",
       "      <td>3</td>\n",
       "      <td>AT_D_M</td>\n",
       "      <td>-7.05</td>\n",
       "      <td>-7.29</td>\n",
       "      <td>-7.30</td>\n",
       "      <td>-7.37</td>\n",
       "      <td>-7.61</td>\n",
       "      <td>-6.56</td>\n",
       "      <td>-7.63</td>\n",
       "      <td>-7.44</td>\n",
       "      <td>...</td>\n",
       "      <td>-6.45</td>\n",
       "      <td>-7.29</td>\n",
       "      <td>-7.25</td>\n",
       "      <td>-7.14</td>\n",
       "      <td>-6.53</td>\n",
       "      <td>-6.93</td>\n",
       "      <td>-6.17</td>\n",
       "      <td>-7.20</td>\n",
       "      <td>-6.93</td>\n",
       "      <td>-6.85</td>\n",
       "    </tr>\n",
       "    <tr>\n",
       "      <th>3</th>\n",
       "      <td>4</td>\n",
       "      <td>AT_L_3</td>\n",
       "      <td>-7.32</td>\n",
       "      <td>-7.01</td>\n",
       "      <td>-7.22</td>\n",
       "      <td>-6.60</td>\n",
       "      <td>-7.45</td>\n",
       "      <td>-7.00</td>\n",
       "      <td>-7.32</td>\n",
       "      <td>-7.27</td>\n",
       "      <td>...</td>\n",
       "      <td>-6.30</td>\n",
       "      <td>-7.01</td>\n",
       "      <td>-6.73</td>\n",
       "      <td>-6.50</td>\n",
       "      <td>-6.37</td>\n",
       "      <td>-6.54</td>\n",
       "      <td>-7.07</td>\n",
       "      <td>-6.86</td>\n",
       "      <td>-6.55</td>\n",
       "      <td>-6.67</td>\n",
       "    </tr>\n",
       "    <tr>\n",
       "      <th>4</th>\n",
       "      <td>5</td>\n",
       "      <td>AT_L_5</td>\n",
       "      <td>-7.38</td>\n",
       "      <td>-7.22</td>\n",
       "      <td>-7.30</td>\n",
       "      <td>-7.37</td>\n",
       "      <td>-7.70</td>\n",
       "      <td>-7.25</td>\n",
       "      <td>-7.61</td>\n",
       "      <td>-7.44</td>\n",
       "      <td>...</td>\n",
       "      <td>-6.48</td>\n",
       "      <td>-7.15</td>\n",
       "      <td>-7.06</td>\n",
       "      <td>-6.44</td>\n",
       "      <td>-6.47</td>\n",
       "      <td>-6.62</td>\n",
       "      <td>-7.00</td>\n",
       "      <td>-7.22</td>\n",
       "      <td>-6.89</td>\n",
       "      <td>-6.36</td>\n",
       "    </tr>\n",
       "  </tbody>\n",
       "</table>\n",
       "<p>5 rows × 62 columns</p>\n",
       "</div>"
      ],
      "text/plain": [
       "   i   Probe  BR.MCF7  BR.MDA_MB_231  BR.HS578T  BR.BT_549  BR.T47D  \\\n",
       "0  1  AT_D_3    -7.45          -7.51      -7.30      -7.37    -6.15   \n",
       "1  2  AT_D_5    -7.05          -6.62      -6.88      -6.78    -7.18   \n",
       "2  3  AT_D_M    -7.05          -7.29      -7.30      -7.37    -7.61   \n",
       "3  4  AT_L_3    -7.32          -7.01      -7.22      -6.60    -7.45   \n",
       "4  5  AT_L_5    -7.38          -7.22      -7.30      -7.37    -7.70   \n",
       "\n",
       "   CNS.SF_268  CNS.SF_295  CNS.SF_539  ...  PR.PC_3  PR.DU_145  RE.786_0  \\\n",
       "0       -7.16       -7.03       -7.44  ...    -6.88      -6.78     -7.25   \n",
       "1       -7.25       -7.22       -7.37  ...    -6.27      -7.04     -6.68   \n",
       "2       -6.56       -7.63       -7.44  ...    -6.45      -7.29     -7.25   \n",
       "3       -7.00       -7.32       -7.27  ...    -6.30      -7.01     -6.73   \n",
       "4       -7.25       -7.61       -7.44  ...    -6.48      -7.15     -7.06   \n",
       "\n",
       "   RE.A498  RE.ACHN  RE.CAKI_1  RE.RXF_393  RE.SN12C  RE.TK_10  RE.UO_31  \n",
       "0    -7.17    -6.51      -6.66       -6.53     -6.86     -7.03     -6.85  \n",
       "1    -6.83    -6.65      -6.61       -6.23     -6.74     -6.85     -6.67  \n",
       "2    -7.14    -6.53      -6.93       -6.17     -7.20     -6.93     -6.85  \n",
       "3    -6.50    -6.37      -6.54       -7.07     -6.86     -6.55     -6.67  \n",
       "4    -6.44    -6.47      -6.62       -7.00     -7.22     -6.89     -6.36  \n",
       "\n",
       "[5 rows x 62 columns]"
      ]
     },
     "execution_count": 348,
     "metadata": {},
     "output_type": "execute_result"
    }
   ],
   "source": [
    "Narrow.head()"
   ]
  },
  {
   "cell_type": "markdown",
   "metadata": {},
   "source": [
    "_Insert a line of code that will transform_ `Narrow` _from wide to narrow format. Use_ `Probe` _as the identifier variable._"
   ]
  },
  {
   "cell_type": "code",
   "execution_count": 349,
   "metadata": {},
   "outputs": [],
   "source": [
    "Narrow = pd.melt(Narrow, id_vars='Probe', var_name='cellLine', value_name='expression')"
   ]
  },
  {
   "cell_type": "markdown",
   "metadata": {},
   "source": [
    "_Insert a line of code to verify the structure and data of_ `Narrow`"
   ]
  },
  {
   "cell_type": "code",
   "execution_count": 350,
   "metadata": {},
   "outputs": [
    {
     "data": {
      "text/html": [
       "<div>\n",
       "<style scoped>\n",
       "    .dataframe tbody tr th:only-of-type {\n",
       "        vertical-align: middle;\n",
       "    }\n",
       "\n",
       "    .dataframe tbody tr th {\n",
       "        vertical-align: top;\n",
       "    }\n",
       "\n",
       "    .dataframe thead th {\n",
       "        text-align: right;\n",
       "    }\n",
       "</style>\n",
       "<table border=\"1\" class=\"dataframe\">\n",
       "  <thead>\n",
       "    <tr style=\"text-align: right;\">\n",
       "      <th></th>\n",
       "      <th>Probe</th>\n",
       "      <th>cellLine</th>\n",
       "      <th>expression</th>\n",
       "    </tr>\n",
       "  </thead>\n",
       "  <tbody>\n",
       "    <tr>\n",
       "      <th>0</th>\n",
       "      <td>AT_D_3</td>\n",
       "      <td>i</td>\n",
       "      <td>1.0</td>\n",
       "    </tr>\n",
       "    <tr>\n",
       "      <th>1</th>\n",
       "      <td>AT_D_5</td>\n",
       "      <td>i</td>\n",
       "      <td>2.0</td>\n",
       "    </tr>\n",
       "    <tr>\n",
       "      <th>2</th>\n",
       "      <td>AT_D_M</td>\n",
       "      <td>i</td>\n",
       "      <td>3.0</td>\n",
       "    </tr>\n",
       "    <tr>\n",
       "      <th>3</th>\n",
       "      <td>AT_L_3</td>\n",
       "      <td>i</td>\n",
       "      <td>4.0</td>\n",
       "    </tr>\n",
       "    <tr>\n",
       "      <th>4</th>\n",
       "      <td>AT_L_5</td>\n",
       "      <td>i</td>\n",
       "      <td>5.0</td>\n",
       "    </tr>\n",
       "  </tbody>\n",
       "</table>\n",
       "</div>"
      ],
      "text/plain": [
       "    Probe cellLine  expression\n",
       "0  AT_D_3        i         1.0\n",
       "1  AT_D_5        i         2.0\n",
       "2  AT_D_M        i         3.0\n",
       "3  AT_L_3        i         4.0\n",
       "4  AT_L_5        i         5.0"
      ]
     },
     "execution_count": 350,
     "metadata": {},
     "output_type": "execute_result"
    }
   ],
   "source": [
    "Narrow.head()"
   ]
  },
  {
   "cell_type": "markdown",
   "metadata": {},
   "source": [
    "_Insert a line of code to read_ `NCI60cells.csv` _into the variable_ `CellTypes`. We're only interested in the `cellLine` and `tissue` columns. Both of these operations could happen in one line, or two."
   ]
  },
  {
   "cell_type": "code",
   "execution_count": 351,
   "metadata": {},
   "outputs": [],
   "source": [
    "CellTypes = pd.read_csv(\"NCI60cells.csv\")\n",
    "CellTypes = CellTypes[['cellLine', 'tissue']]"
   ]
  },
  {
   "cell_type": "markdown",
   "metadata": {},
   "source": [
    "_Insert a line of code to verify the structure and data of_ `CellTypes`"
   ]
  },
  {
   "cell_type": "code",
   "execution_count": 352,
   "metadata": {},
   "outputs": [
    {
     "data": {
      "text/html": [
       "<div>\n",
       "<style scoped>\n",
       "    .dataframe tbody tr th:only-of-type {\n",
       "        vertical-align: middle;\n",
       "    }\n",
       "\n",
       "    .dataframe tbody tr th {\n",
       "        vertical-align: top;\n",
       "    }\n",
       "\n",
       "    .dataframe thead th {\n",
       "        text-align: right;\n",
       "    }\n",
       "</style>\n",
       "<table border=\"1\" class=\"dataframe\">\n",
       "  <thead>\n",
       "    <tr style=\"text-align: right;\">\n",
       "      <th></th>\n",
       "      <th>cellLine</th>\n",
       "      <th>tissue</th>\n",
       "    </tr>\n",
       "  </thead>\n",
       "  <tbody>\n",
       "    <tr>\n",
       "      <th>0</th>\n",
       "      <td>BR:MCF7</td>\n",
       "      <td>Breast</td>\n",
       "    </tr>\n",
       "    <tr>\n",
       "      <th>1</th>\n",
       "      <td>BR:MDA_MB_231</td>\n",
       "      <td>Breast</td>\n",
       "    </tr>\n",
       "    <tr>\n",
       "      <th>2</th>\n",
       "      <td>BR:HS578T</td>\n",
       "      <td>Breast</td>\n",
       "    </tr>\n",
       "    <tr>\n",
       "      <th>3</th>\n",
       "      <td>BR:BT_549</td>\n",
       "      <td>Breast</td>\n",
       "    </tr>\n",
       "    <tr>\n",
       "      <th>4</th>\n",
       "      <td>BR:T47D</td>\n",
       "      <td>Breast</td>\n",
       "    </tr>\n",
       "  </tbody>\n",
       "</table>\n",
       "</div>"
      ],
      "text/plain": [
       "        cellLine  tissue\n",
       "0        BR:MCF7  Breast\n",
       "1  BR:MDA_MB_231  Breast\n",
       "2      BR:HS578T  Breast\n",
       "3      BR:BT_549  Breast\n",
       "4        BR:T47D  Breast"
      ]
     },
     "execution_count": 352,
     "metadata": {},
     "output_type": "execute_result"
    }
   ],
   "source": [
    "CellTypes.head()"
   ]
  },
  {
   "cell_type": "markdown",
   "metadata": {},
   "source": [
    "_Notice how the cellLine names in this file use_ `:` _rather than_ `.` _We need to fix this. Update the contents of_ `cellLine` _to replace_ `:` _with_ `.` _using_ `str.replace`. _You will likely need to escape the_ `:`. "
   ]
  },
  {
   "cell_type": "code",
   "execution_count": 353,
   "metadata": {},
   "outputs": [],
   "source": [
    "CellTypes['cellLine'] = CellTypes['cellLine'].str.replace(':', '.')"
   ]
  },
  {
   "cell_type": "markdown",
   "metadata": {},
   "source": [
    "_Insert a line of code to verify the structure and data of_ `CellTypes`"
   ]
  },
  {
   "cell_type": "code",
   "execution_count": 354,
   "metadata": {},
   "outputs": [
    {
     "data": {
      "text/html": [
       "<div>\n",
       "<style scoped>\n",
       "    .dataframe tbody tr th:only-of-type {\n",
       "        vertical-align: middle;\n",
       "    }\n",
       "\n",
       "    .dataframe tbody tr th {\n",
       "        vertical-align: top;\n",
       "    }\n",
       "\n",
       "    .dataframe thead th {\n",
       "        text-align: right;\n",
       "    }\n",
       "</style>\n",
       "<table border=\"1\" class=\"dataframe\">\n",
       "  <thead>\n",
       "    <tr style=\"text-align: right;\">\n",
       "      <th></th>\n",
       "      <th>cellLine</th>\n",
       "      <th>tissue</th>\n",
       "    </tr>\n",
       "  </thead>\n",
       "  <tbody>\n",
       "    <tr>\n",
       "      <th>0</th>\n",
       "      <td>BR.MCF7</td>\n",
       "      <td>Breast</td>\n",
       "    </tr>\n",
       "    <tr>\n",
       "      <th>1</th>\n",
       "      <td>BR.MDA_MB_231</td>\n",
       "      <td>Breast</td>\n",
       "    </tr>\n",
       "    <tr>\n",
       "      <th>2</th>\n",
       "      <td>BR.HS578T</td>\n",
       "      <td>Breast</td>\n",
       "    </tr>\n",
       "    <tr>\n",
       "      <th>3</th>\n",
       "      <td>BR.BT_549</td>\n",
       "      <td>Breast</td>\n",
       "    </tr>\n",
       "    <tr>\n",
       "      <th>4</th>\n",
       "      <td>BR.T47D</td>\n",
       "      <td>Breast</td>\n",
       "    </tr>\n",
       "  </tbody>\n",
       "</table>\n",
       "</div>"
      ],
      "text/plain": [
       "        cellLine  tissue\n",
       "0        BR.MCF7  Breast\n",
       "1  BR.MDA_MB_231  Breast\n",
       "2      BR.HS578T  Breast\n",
       "3      BR.BT_549  Breast\n",
       "4        BR.T47D  Breast"
      ]
     },
     "execution_count": 354,
     "metadata": {},
     "output_type": "execute_result"
    }
   ],
   "source": [
    "CellTypes.head()"
   ]
  },
  {
   "cell_type": "markdown",
   "metadata": {},
   "source": [
    "_Write a line of code to join the data in_ `Narrow` _and_ `CellTypes`_, storing the result back into_ `Narrow`. _You should be able to mostly match the figure below. It's OK if your column names are different, as long as you are consistent!_"
   ]
  },
  {
   "cell_type": "code",
   "execution_count": 355,
   "metadata": {},
   "outputs": [],
   "source": [
    "Narrow = pd.merge(Narrow, CellTypes, on='cellLine')"
   ]
  },
  {
   "cell_type": "markdown",
   "metadata": {},
   "source": [
    "_Write a line of code to verify the structure and data in_ `Narrow`."
   ]
  },
  {
   "cell_type": "code",
   "execution_count": 356,
   "metadata": {},
   "outputs": [
    {
     "data": {
      "text/html": [
       "<div>\n",
       "<style scoped>\n",
       "    .dataframe tbody tr th:only-of-type {\n",
       "        vertical-align: middle;\n",
       "    }\n",
       "\n",
       "    .dataframe tbody tr th {\n",
       "        vertical-align: top;\n",
       "    }\n",
       "\n",
       "    .dataframe thead th {\n",
       "        text-align: right;\n",
       "    }\n",
       "</style>\n",
       "<table border=\"1\" class=\"dataframe\">\n",
       "  <thead>\n",
       "    <tr style=\"text-align: right;\">\n",
       "      <th></th>\n",
       "      <th>Probe</th>\n",
       "      <th>cellLine</th>\n",
       "      <th>expression</th>\n",
       "      <th>tissue</th>\n",
       "    </tr>\n",
       "  </thead>\n",
       "  <tbody>\n",
       "    <tr>\n",
       "      <th>0</th>\n",
       "      <td>AT_D_3</td>\n",
       "      <td>BR.MCF7</td>\n",
       "      <td>-7.45</td>\n",
       "      <td>Breast</td>\n",
       "    </tr>\n",
       "    <tr>\n",
       "      <th>1</th>\n",
       "      <td>AT_D_5</td>\n",
       "      <td>BR.MCF7</td>\n",
       "      <td>-7.05</td>\n",
       "      <td>Breast</td>\n",
       "    </tr>\n",
       "    <tr>\n",
       "      <th>2</th>\n",
       "      <td>AT_D_M</td>\n",
       "      <td>BR.MCF7</td>\n",
       "      <td>-7.05</td>\n",
       "      <td>Breast</td>\n",
       "    </tr>\n",
       "    <tr>\n",
       "      <th>3</th>\n",
       "      <td>AT_L_3</td>\n",
       "      <td>BR.MCF7</td>\n",
       "      <td>-7.32</td>\n",
       "      <td>Breast</td>\n",
       "    </tr>\n",
       "    <tr>\n",
       "      <th>4</th>\n",
       "      <td>AT_L_5</td>\n",
       "      <td>BR.MCF7</td>\n",
       "      <td>-7.38</td>\n",
       "      <td>Breast</td>\n",
       "    </tr>\n",
       "  </tbody>\n",
       "</table>\n",
       "</div>"
      ],
      "text/plain": [
       "    Probe cellLine  expression  tissue\n",
       "0  AT_D_3  BR.MCF7       -7.45  Breast\n",
       "1  AT_D_5  BR.MCF7       -7.05  Breast\n",
       "2  AT_D_M  BR.MCF7       -7.05  Breast\n",
       "3  AT_L_3  BR.MCF7       -7.32  Breast\n",
       "4  AT_L_5  BR.MCF7       -7.38  Breast"
      ]
     },
     "execution_count": 356,
     "metadata": {},
     "output_type": "execute_result"
    }
   ],
   "source": [
    "Narrow.head()"
   ]
  },
  {
   "cell_type": "markdown",
   "metadata": {},
   "source": [
    "![Table 1](Final/T1.png \"Table 1\")"
   ]
  },
  {
   "cell_type": "markdown",
   "metadata": {},
   "source": [
    "_Insert a line of code to extract those rows from_ `Narrow` _corresponding to the Probe_ `TOP3A`_, storing the result into a variable named_ `Probe_TOP3A`"
   ]
  },
  {
   "cell_type": "code",
   "execution_count": 357,
   "metadata": {},
   "outputs": [],
   "source": [
    "Probe_TOP3A = Narrow[Narrow['Probe'] == 'TOP3A']"
   ]
  },
  {
   "cell_type": "markdown",
   "metadata": {},
   "source": [
    "_Write a line of code to verify the structure and data of_ `Probe_TOP3A`."
   ]
  },
  {
   "cell_type": "code",
   "execution_count": 358,
   "metadata": {},
   "outputs": [
    {
     "data": {
      "text/html": [
       "<div>\n",
       "<style scoped>\n",
       "    .dataframe tbody tr th:only-of-type {\n",
       "        vertical-align: middle;\n",
       "    }\n",
       "\n",
       "    .dataframe tbody tr th {\n",
       "        vertical-align: top;\n",
       "    }\n",
       "\n",
       "    .dataframe thead th {\n",
       "        text-align: right;\n",
       "    }\n",
       "</style>\n",
       "<table border=\"1\" class=\"dataframe\">\n",
       "  <thead>\n",
       "    <tr style=\"text-align: right;\">\n",
       "      <th></th>\n",
       "      <th>Probe</th>\n",
       "      <th>cellLine</th>\n",
       "      <th>expression</th>\n",
       "      <th>tissue</th>\n",
       "    </tr>\n",
       "  </thead>\n",
       "  <tbody>\n",
       "    <tr>\n",
       "      <th>4688</th>\n",
       "      <td>TOP3A</td>\n",
       "      <td>BR.MCF7</td>\n",
       "      <td>-0.37</td>\n",
       "      <td>Breast</td>\n",
       "    </tr>\n",
       "    <tr>\n",
       "      <th>45766</th>\n",
       "      <td>TOP3A</td>\n",
       "      <td>BR.MDA_MB_231</td>\n",
       "      <td>-0.18</td>\n",
       "      <td>Breast</td>\n",
       "    </tr>\n",
       "    <tr>\n",
       "      <th>86844</th>\n",
       "      <td>TOP3A</td>\n",
       "      <td>BR.HS578T</td>\n",
       "      <td>0.32</td>\n",
       "      <td>Breast</td>\n",
       "    </tr>\n",
       "    <tr>\n",
       "      <th>127922</th>\n",
       "      <td>TOP3A</td>\n",
       "      <td>BR.BT_549</td>\n",
       "      <td>0.05</td>\n",
       "      <td>Breast</td>\n",
       "    </tr>\n",
       "    <tr>\n",
       "      <th>169000</th>\n",
       "      <td>TOP3A</td>\n",
       "      <td>BR.T47D</td>\n",
       "      <td>-0.31</td>\n",
       "      <td>Breast</td>\n",
       "    </tr>\n",
       "  </tbody>\n",
       "</table>\n",
       "</div>"
      ],
      "text/plain": [
       "        Probe       cellLine  expression  tissue\n",
       "4688    TOP3A        BR.MCF7       -0.37  Breast\n",
       "45766   TOP3A  BR.MDA_MB_231       -0.18  Breast\n",
       "86844   TOP3A      BR.HS578T        0.32  Breast\n",
       "127922  TOP3A      BR.BT_549        0.05  Breast\n",
       "169000  TOP3A        BR.T47D       -0.31  Breast"
      ]
     },
     "execution_count": 358,
     "metadata": {},
     "output_type": "execute_result"
    }
   ],
   "source": [
    "Probe_TOP3A.head()"
   ]
  },
  {
   "cell_type": "markdown",
   "metadata": {},
   "source": [
    "_If you have made it this far, your data in_ `Probe_TOP3A` _should resemble Table 2. It's OK to have more columns or for the columns to have different names._\n",
    "![Table 2](Final/T2.png \"Table 2\")"
   ]
  },
  {
   "cell_type": "markdown",
   "metadata": {},
   "source": [
    "_Create a new dataframe named_ `SummaryStats` _that contains the mean, standard deviation and count of the expression data **in each cancer tissue type**._"
   ]
  },
  {
   "cell_type": "code",
   "execution_count": 359,
   "metadata": {},
   "outputs": [],
   "source": [
    "SummaryStats = Probe_TOP3A.groupby('tissue')['expression'].agg(['mean', 'std', 'count'])"
   ]
  },
  {
   "cell_type": "markdown",
   "metadata": {},
   "source": [
    "_We need to convert the mean expression data using numpy's_ `exp` _function. Be sure that the standard deviation and count values are **not** converted!_ <p/>\n",
    "\n",
    "_Create a new column named_ `se` _that represents the standard error. The standard error is calculated as_\n",
    "\\begin{equation*}\n",
    "\\frac{standard\\ deviation}{\\sqrt {count}}\n",
    "\\end{equation*}\n",
    "_for each group. This value will be used to calculate the error bars later._"
   ]
  },
  {
   "cell_type": "code",
   "execution_count": 360,
   "metadata": {},
   "outputs": [],
   "source": [
    "SummaryStats['se'] = SummaryStats['std']/(np.sqrt(SummaryStats['count']))\n",
    "SummaryStats['mean_exp'] = np.exp(SummaryStats['mean'])\n",
    "SummaryStats = SummaryStats.drop(columns=['std', 'count', 'mean'])"
   ]
  },
  {
   "cell_type": "markdown",
   "metadata": {},
   "source": [
    "_Insert a line of code to verify the structure and data in_ `SummaryStats`. _It should resemble the table below (ours will be slightly different in that we're including standard deviation values). You will also see that_ `tissue` _became an index during our aggregation. Remove it as an index so that we have_ `tissue` _available to graph._"
   ]
  },
  {
   "cell_type": "code",
   "execution_count": 361,
   "metadata": {},
   "outputs": [
    {
     "data": {
      "text/html": [
       "<div>\n",
       "<style scoped>\n",
       "    .dataframe tbody tr th:only-of-type {\n",
       "        vertical-align: middle;\n",
       "    }\n",
       "\n",
       "    .dataframe tbody tr th {\n",
       "        vertical-align: top;\n",
       "    }\n",
       "\n",
       "    .dataframe thead th {\n",
       "        text-align: right;\n",
       "    }\n",
       "</style>\n",
       "<table border=\"1\" class=\"dataframe\">\n",
       "  <thead>\n",
       "    <tr style=\"text-align: right;\">\n",
       "      <th></th>\n",
       "      <th>tissue</th>\n",
       "      <th>se</th>\n",
       "      <th>mean_exp</th>\n",
       "    </tr>\n",
       "  </thead>\n",
       "  <tbody>\n",
       "    <tr>\n",
       "      <th>0</th>\n",
       "      <td>Breast</td>\n",
       "      <td>0.126941</td>\n",
       "      <td>0.906649</td>\n",
       "    </tr>\n",
       "    <tr>\n",
       "      <th>1</th>\n",
       "      <td>CNS</td>\n",
       "      <td>0.117974</td>\n",
       "      <td>0.525538</td>\n",
       "    </tr>\n",
       "    <tr>\n",
       "      <th>2</th>\n",
       "      <td>Colon</td>\n",
       "      <td>0.153587</td>\n",
       "      <td>0.354466</td>\n",
       "    </tr>\n",
       "    <tr>\n",
       "      <th>3</th>\n",
       "      <td>Leukemia</td>\n",
       "      <td>0.254999</td>\n",
       "      <td>0.659241</td>\n",
       "    </tr>\n",
       "    <tr>\n",
       "      <th>4</th>\n",
       "      <td>Melanoma</td>\n",
       "      <td>0.098388</td>\n",
       "      <td>0.572925</td>\n",
       "    </tr>\n",
       "  </tbody>\n",
       "</table>\n",
       "</div>"
      ],
      "text/plain": [
       "     tissue        se  mean_exp\n",
       "0    Breast  0.126941  0.906649\n",
       "1       CNS  0.117974  0.525538\n",
       "2     Colon  0.153587  0.354466\n",
       "3  Leukemia  0.254999  0.659241\n",
       "4  Melanoma  0.098388  0.572925"
      ]
     },
     "execution_count": 361,
     "metadata": {},
     "output_type": "execute_result"
    }
   ],
   "source": [
    "SummaryStats.reset_index(inplace=True)\n",
    "SummaryStats.head()"
   ]
  },
  {
   "cell_type": "markdown",
   "metadata": {},
   "source": [
    "![Table 3](Final/T3.png \"Table 3\")"
   ]
  },
  {
   "cell_type": "markdown",
   "metadata": {},
   "source": [
    "The figure below shows the mean expression data graphically. This sort of bar graph is often seen in the scientific literature, but that does not mean it is an effective presentation.\n",
    "![Figure 1](Final/F1.png \"Figure 1\")\n",
    "_Insert code to generate a similar bar graph of mean gene expression from the_ `SummaryStats` _data frame._"
   ]
  },
  {
   "cell_type": "code",
   "execution_count": 362,
   "metadata": {},
   "outputs": [
    {
     "data": {
      "image/png": "[encoded data removed]",
      "text/plain": [
       "<Figure size 640x480 with 1 Axes>"
      ]
     },
     "metadata": {},
     "output_type": "display_data"
    }
   ],
   "source": [
    "SummaryStats.plot(kind='bar', x='tissue', y='mean_exp')\n",
    "plt.xlabel('tissue')\n",
    "plt.ylabel('mn_expr')\n",
    "plt.show()"
   ]
  },
  {
   "cell_type": "markdown",
   "metadata": {},
   "source": [
    "To judge from the figure, `TOP3A` is expressed more highly in breast cancer than in other cancer tissue types. <p/>\n",
    "But don't jump to conclusions! Expression differs even from one cell line to another of the same tissue type, as in the next figure.\n",
    "![Figure 2](Final/F2.png \"Figure 2\")\n",
    "_Insert code below to do two things._\n",
    "* _We want to plot the_ `Probe_TOP3A` _mean expression data by tissue type. To do this, you'll need to convert the gene expression data in_ `Probe_TOP3A` _with_ `np.exp`.\n",
    "* _Plot your data like the example figure._"
   ]
  },
  {
   "cell_type": "code",
   "execution_count": 363,
   "metadata": {},
   "outputs": [
    {
     "name": "stderr",
     "output_type": "stream",
     "text": [
      "C:\\Users\\andre\\AppData\\Local\\Temp\\ipykernel_5892\\3069104702.py:1: SettingWithCopyWarning: \n",
      "A value is trying to be set on a copy of a slice from a DataFrame.\n",
      "Try using .loc[row_indexer,col_indexer] = value instead\n",
      "\n",
      "See the caveats in the documentation: https://pandas.pydata.org/pandas-docs/stable/user_guide/indexing.html#returning-a-view-versus-a-copy\n"
     ]
    },
    {
     "data": {
      "image/png": "[encoded data removed]",
      "text/plain": [
       "<Figure size 1000x600 with 1 Axes>"
      ]
     },
     "metadata": {},
     "output_type": "display_data"
    }
   ],
   "source": [
    "Probe_TOP3A['mean_exp'] = np.exp(Probe_TOP3A['expression'])\n",
    "plt.figure(figsize=(10,6))\n",
    "plt.scatter(Probe_TOP3A['tissue'], Probe_TOP3A['expression'], marker='o', color='black')\n",
    "plt.xlabel('Tissue')\n",
    "plt.ylabel('Mean Expression')\n",
    "plt.xticks(rotation=45)\n",
    "plt.grid(True, which='both', linestyle='--', linewidth=.05)\n",
    "plt.show()"
   ]
  },
  {
   "cell_type": "code",
   "execution_count": 364,
   "metadata": {},
   "outputs": [
    {
     "name": "stderr",
     "output_type": "stream",
     "text": [
      "C:\\Users\\andre\\AppData\\Local\\Temp\\ipykernel_5892\\3939482373.py:1: SettingWithCopyWarning: \n",
      "A value is trying to be set on a copy of a slice from a DataFrame.\n",
      "Try using .loc[row_indexer,col_indexer] = value instead\n",
      "\n",
      "See the caveats in the documentation: https://pandas.pydata.org/pandas-docs/stable/user_guide/indexing.html#returning-a-view-versus-a-copy\n"
     ]
    },
    {
     "data": {
      "image/png": "[encoded data removed]",
      "text/plain": [
       "<Figure size 1000x600 with 1 Axes>"
      ]
     },
     "metadata": {},
     "output_type": "display_data"
    }
   ],
   "source": [
    "Probe_TOP3A['mean_exp'] = np.exp(Probe_TOP3A['expression'])\n",
    "plt.figure(figsize=(10,6))\n",
    "plt.scatter(Probe_TOP3A['tissue'], Probe_TOP3A['mean_exp'], marker='o', color='black')\n",
    "plt.errorbar(SummaryStats['tissue'], SummaryStats['mean_exp'], yerr=SummaryStats['se']*2, capsize=5, ls='none', color='black')\n",
    "plt.xlabel('Tissue')\n",
    "plt.ylabel('Mean Expression')\n",
    "plt.xticks(rotation=45)\n",
    "plt.grid(True, which='both', linestyle='--', linewidth=.05)\n",
    "plt.show()"
   ]
  },
  {
   "cell_type": "markdown",
   "metadata": {},
   "source": [
    "When looking at the individual cell lines, it's not so clear that `TOP3A` is expressed differently in breast cancer compared to the others.<p/>\n",
    "The mean reflects the `Top3A` expression collectively within each tissue type. As such, the mean is a **statistic** (a calculated quantity giving a collective property for a set of cases). In order to compare different tissues to one another, some indication must be given for the precision of the mean. Clasically, this indication is provided by a **confidence interval** at the 95-percent level.<p/>\n",
    "Write code to produce error bars on the plotted data. The tops and bottoms of the error bars should be two standard errors above and below the mean for each tissue. Your graph should look something like below. You will need to combine the data for `Top3A` with standard errors for the various tissues, somehow.<p/>\n",
    "The 'secret sauce' to make this work in `matplotlib`'s `plt.errorbar`, which takes a number of parameters, including the `x` and `y` values (use the `mean` here), how far to extend the error bar (`standard error` * 2), and include `capsize=5, ls='none'` to put the horizontal lines on the ends of the error bars and to _not_ connect the data with a best-fit line.<p/>\n",
    "Similarly, when using `plotnine`, calculate and use the `ymin` and `ymax` values for `geom_errorbar`.\n",
    "![Figure 5](Final/F5.png \"Figure 5\")"
   ]
  },
  {
   "cell_type": "code",
   "execution_count": null,
   "metadata": {},
   "outputs": [],
   "source": []
  },
  {
   "cell_type": "code",
   "execution_count": null,
   "metadata": {},
   "outputs": [],
   "source": []
  },
  {
   "cell_type": "markdown",
   "metadata": {},
   "source": [
    "There are 32,344 distinct probes in `NCI60`. `TOP3A` in the above example was selected literally at random. Repeat the above analysis with a different probe (I'd recommend A_23_P61317, A_24_P190631, or A_23_P135646 -- sadly, this term we've run out of time to discover why!). Your goal is to create a graph for this probe like we just did with the error bars."
   ]
  },
  {
   "cell_type": "code",
   "execution_count": 365,
   "metadata": {},
   "outputs": [
    {
     "name": "stderr",
     "output_type": "stream",
     "text": [
      "C:\\Users\\andre\\AppData\\Local\\Temp\\ipykernel_5892\\1976602611.py:2: SettingWithCopyWarning: \n",
      "A value is trying to be set on a copy of a slice from a DataFrame.\n",
      "Try using .loc[row_indexer,col_indexer] = value instead\n",
      "\n",
      "See the caveats in the documentation: https://pandas.pydata.org/pandas-docs/stable/user_guide/indexing.html#returning-a-view-versus-a-copy\n"
     ]
    },
    {
     "data": {
      "image/png": "[encoded data removed]",
      "text/plain": [
       "<Figure size 1000x600 with 1 Axes>"
      ]
     },
     "metadata": {},
     "output_type": "display_data"
    }
   ],
   "source": [
    "Probe_A23 = Narrow[Narrow['Probe'] == 'A_23_P135646']\n",
    "Probe_A23['mean_exp'] = np.exp(Probe_A23['expression'])\n",
    "plt.figure(figsize=(10,6))\n",
    "plt.scatter(Probe_A23['tissue'], Probe_A23['mean_exp'], marker='o', color='black')\n",
    "plt.errorbar(SummaryStats['tissue'], SummaryStats['mean_exp'], yerr=SummaryStats['se']*2, capsize=5, ls='none', color='black')\n",
    "plt.xlabel('Tissue')\n",
    "plt.ylabel('Mean Expression')\n",
    "plt.xticks(rotation=45)\n",
    "plt.grid(True, which='both', linestyle='--', linewidth=.05)\n",
    "plt.show()"
   ]
  },
  {
   "cell_type": "code",
   "execution_count": null,
   "metadata": {},
   "outputs": [],
   "source": []
  }
 ],
 "metadata": {
  "kernelspec": {
   "display_name": "Python 3 (ipykernel)",
   "language": "python",
   "name": "python3"
  },
  "language_info": {
   "codemirror_mode": {
    "name": "ipython",
    "version": 3
   },
   "file_extension": ".py",
   "mimetype": "text/x-python",
   "name": "python",
   "nbconvert_exporter": "python",
   "pygments_lexer": "ipython3",
   "version": "3.10.11"
  }
 },
 "nbformat": 4,
 "nbformat_minor": 4
}
