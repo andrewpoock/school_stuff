{
 "cells": [
  {
   "cell_type": "markdown",
   "metadata": {},
   "source": [
    "# CS 205 Final Exam\n",
    "## You may use your books (both R and Python) and the Internet. You can NOT use help directly from another person! You may send me e-mail to ask questions or contact me during office hours (9-11 am Tuesday and Wednesday).\n",
    "\n",
    "# _This is a reminder of your obligation to the Honor Code_"
   ]
  },
  {
   "cell_type": "markdown",
   "metadata": {},
   "source": [
    "**Enter your name here:**"
   ]
  },
  {
   "cell_type": "markdown",
   "metadata": {},
   "source": [
    "In the 1980s, the [National Cancer Institute](http://cancer.gov) developed a set of 60 cancer cell lines, called [NCI60](http://www.broadinstitute.org/mpr/NCI60/NCI60.html). The original purpose was for screening potential anti-cancer drugs. Here you will examine gene expresion in these cell lines. More than 41,000 probes were used for each of the 60 cell lines. For convenience, the data are provided in `NCI60.csv` and `NCI60cells.csv`.<p/>\n",
    "`NCI60` is somewhat large -- 41,078 probes by 60 cell lines. Each of these 2,454,680 entries is a measure of how much a particular gene was expressed in one cell line.<p/>\n",
    "One clue that a gene is linked to cancer is differences in expression of that gene from one cancer type to another. Here's the wrangling involved in extracting the expression of TOP3A for each cell line.\n"
   ]
  },
  {
   "cell_type": "code",
   "execution_count": null,
   "metadata": {},
   "outputs": [],
   "source": [
    "import pandas as pd\n",
    "import numpy as np\n",
    "import matplotlib.pyplot as plt\n",
    "from plotnine import *"
   ]
  },
  {
   "cell_type": "markdown",
   "metadata": {},
   "source": [
    "_Insert a line of code to read NCI60.csv into a dataframe named_ `Narrow`."
   ]
  },
  {
   "cell_type": "code",
   "execution_count": null,
   "metadata": {},
   "outputs": [],
   "source": []
  },
  {
   "cell_type": "markdown",
   "metadata": {},
   "source": [
    "_Insert a line of code to visually inspect or verify the structure and data of_ `Narrow`"
   ]
  },
  {
   "cell_type": "code",
   "execution_count": null,
   "metadata": {},
   "outputs": [],
   "source": []
  },
  {
   "cell_type": "markdown",
   "metadata": {},
   "source": [
    "_Insert a line of code that will transform_ `Narrow` _from wide to narrow format. Use_ `Probe` _as the identifier variable._"
   ]
  },
  {
   "cell_type": "code",
   "execution_count": null,
   "metadata": {},
   "outputs": [],
   "source": []
  },
  {
   "cell_type": "markdown",
   "metadata": {},
   "source": [
    "_Insert a line of code to verify the structure and data of_ `Narrow`"
   ]
  },
  {
   "cell_type": "code",
   "execution_count": null,
   "metadata": {},
   "outputs": [],
   "source": []
  },
  {
   "cell_type": "markdown",
   "metadata": {},
   "source": [
    "_Insert a line of code to read_ `NCI60cells.csv` _into the variable_ `CellTypes`. We're only interested in the `cellLine` and `tissue` columns. Both of these operations could happen in one line, or two."
   ]
  },
  {
   "cell_type": "code",
   "execution_count": null,
   "metadata": {},
   "outputs": [],
   "source": []
  },
  {
   "cell_type": "markdown",
   "metadata": {},
   "source": [
    "_Insert a line of code to verify the structure and data of_ `CellTypes`"
   ]
  },
  {
   "cell_type": "code",
   "execution_count": null,
   "metadata": {},
   "outputs": [],
   "source": []
  },
  {
   "cell_type": "markdown",
   "metadata": {},
   "source": [
    "_Notice how the cellLine names in this file use_ `:` _rather than_ `.` _We need to fix this. Update the contents of_ `cellLine` _to replace_ `:` _with_ `.` _using_ `str.replace`. _You will likely need to escape the_ `:`. "
   ]
  },
  {
   "cell_type": "code",
   "execution_count": null,
   "metadata": {},
   "outputs": [],
   "source": []
  },
  {
   "cell_type": "markdown",
   "metadata": {},
   "source": [
    "_Insert a line of code to verify the structure and data of_ `CellTypes`"
   ]
  },
  {
   "cell_type": "code",
   "execution_count": null,
   "metadata": {},
   "outputs": [],
   "source": []
  },
  {
   "cell_type": "markdown",
   "metadata": {},
   "source": [
    "_Write a line of code to join the data in_ `Narrow` _and_ `CellTypes`_, storing the result back into_ `Narrow`. _You should be able to mostly match the figure below. It's OK if your column names are different, as long as you are consistent!_"
   ]
  },
  {
   "cell_type": "code",
   "execution_count": null,
   "metadata": {},
   "outputs": [],
   "source": []
  },
  {
   "cell_type": "markdown",
   "metadata": {},
   "source": [
    "_Write a line of code to verify the structure and data in_ `Narrow`."
   ]
  },
  {
   "cell_type": "code",
   "execution_count": null,
   "metadata": {},
   "outputs": [],
   "source": []
  },
  {
   "cell_type": "markdown",
   "metadata": {},
   "source": [
    "![Table 1](Final/T1.png \"Table 1\")"
   ]
  },
  {
   "cell_type": "markdown",
   "metadata": {},
   "source": [
    "_Insert a line of code to extract those rows from_ `Narrow` _corresponding to the Probe_ `TOP3A`_, storing the result into a variable named_ `Probe_TOP3A`"
   ]
  },
  {
   "cell_type": "code",
   "execution_count": null,
   "metadata": {},
   "outputs": [],
   "source": []
  },
  {
   "cell_type": "markdown",
   "metadata": {},
   "source": [
    "_Write a line of code to verify the structure and data of_ `Probe_TOP3A`."
   ]
  },
  {
   "cell_type": "code",
   "execution_count": null,
   "metadata": {},
   "outputs": [],
   "source": []
  },
  {
   "cell_type": "markdown",
   "metadata": {},
   "source": [
    "_If you have made it this far, your data in_ `Probe_TOP3A` _should resemble Table 2. It's OK to have more columns or for the columns to have different names._\n",
    "![Table 2](Final/T2.png \"Table 2\")"
   ]
  },
  {
   "cell_type": "markdown",
   "metadata": {},
   "source": [
    "_Create a new dataframe named_ `SummaryStats` _that contains the mean, standard deviation and count of the expression data **in each cancer tissue type**._"
   ]
  },
  {
   "cell_type": "code",
   "execution_count": null,
   "metadata": {},
   "outputs": [],
   "source": []
  },
  {
   "cell_type": "markdown",
   "metadata": {},
   "source": [
    "_We need to convert the mean expression data using numpy's_ `exp` _function. Be sure that the standard deviation and count values are **not** converted!_ <p/>\n",
    "\n",
    "_Create a new column named_ `se` _that represents the standard error. The standard error is calculated as_\n",
    "\\begin{equation*}\n",
    "\\frac{standard\\ deviation}{\\sqrt {count}}\n",
    "\\end{equation*}\n",
    "_for each group. This value will be used to calculate the error bars later._"
   ]
  },
  {
   "cell_type": "code",
   "execution_count": null,
   "metadata": {},
   "outputs": [],
   "source": []
  },
  {
   "cell_type": "markdown",
   "metadata": {},
   "source": [
    "_Insert a line of code to verify the structure and data in_ `SummaryStats`. _It should resemble the table below (ours will be slightly different in that we're including standard deviation values). You will also see that_ `tissue` _became an index during our aggregation. Remove it as an index so that we have_ `tissue` _available to graph._"
   ]
  },
  {
   "cell_type": "code",
   "execution_count": null,
   "metadata": {},
   "outputs": [],
   "source": []
  },
  {
   "cell_type": "markdown",
   "metadata": {},
   "source": []
  },
  {
   "cell_type": "markdown",
   "metadata": {},
   "source": [
    "![Table 3](Final/T3.png \"Table 3\")"
   ]
  },
  {
   "cell_type": "markdown",
   "metadata": {},
   "source": [
    "The figure below shows the mean expression data graphically. This sort of bar graph is often seen in the scientific literature, but that does not mean it is an effective presentation.\n",
    "![Figure 1](Final/F1.png \"Figure 1\")\n",
    "_Insert code to generate a similar bar graph of mean gene expression from the_ `SummaryStats` _data frame._"
   ]
  },
  {
   "cell_type": "code",
   "execution_count": null,
   "metadata": {},
   "outputs": [],
   "source": []
  },
  {
   "cell_type": "markdown",
   "metadata": {},
   "source": [
    "To judge from the figure, `TOP3A` is expressed more highly in breast cancer than in other cancer tissue types. <p/>\n",
    "But don't jump to conclusions! Expression differs even from one cell line to another of the same tissue type, as in the next figure.\n",
    "![Figure 2](Final/F2.png \"Figure 2\")\n",
    "_Insert code below to do two things._\n",
    "* _We want to plot the_ `Probe_TOP3A` _mean expression data by tissue type. To do this, you'll need to convert the gene expression data in_ `Probe_TOP3A` _with_ `np.exp`.\n",
    "* _Plot your data like the example figure._"
   ]
  },
  {
   "cell_type": "code",
   "execution_count": null,
   "metadata": {},
   "outputs": [],
   "source": []
  },
  {
   "cell_type": "code",
   "execution_count": null,
   "metadata": {},
   "outputs": [],
   "source": []
  },
  {
   "cell_type": "markdown",
   "metadata": {},
   "source": [
    "When looking at the individual cell lines, it's not so clear that `TOP3A` is expressed differently in breast cancer compared to the others.<p/>\n",
    "The mean reflects the `Top3A` expression collectively within each tissue type. As such, the mean is a **statistic** (a calculated quantity giving a collective property for a set of cases). In order to compare different tissues to one another, some indication must be given for the precision of the mean. Clasically, this indication is provided by a **confidence interval** at the 95-percent level.<p/>\n",
    "Write code to produce error bars on the plotted data. The tops and bottoms of the error bars should be two standard errors above and below the mean for each tissue. Your graph should look something like below. You will need to combine the data for `Top3A` with standard errors for the various tissues, somehow.<p/>\n",
    "The 'secret sauce' to make this work in `matplotlib`'s `plt.errorbar`, which takes a number of parameters, including the `x` and `y` values (use the `mean` here), how far to extend the error bar (`standard error` * 2), and include `capsize=5, ls='none'` to put the horizontal lines on the ends of the error bars and to _not_ connect the data with a best-fit line.<p/>\n",
    "Similarly, when using `plotnine`, calculate and use the `ymin` and `ymax` values for `geom_errorbar`.\n",
    "![Figure 5](Final/F5.png \"Figure 5\")"
   ]
  },
  {
   "cell_type": "code",
   "execution_count": null,
   "metadata": {},
   "outputs": [],
   "source": []
  },
  {
   "cell_type": "code",
   "execution_count": null,
   "metadata": {},
   "outputs": [],
   "source": []
  },
  {
   "cell_type": "markdown",
   "metadata": {},
   "source": [
    "There are 32,344 distinct probes in `NCI60`. `TOP3A` in the above example was selected literally at random. Repeat the above analysis with a different probe (I'd recommend A_23_P61317, A_24_P190631, or A_23_P135646 -- sadly, this term we've run out of time to discover why!). Your goal is to create a graph for this probe like we just did with the error bars."
   ]
  },
  {
   "cell_type": "code",
   "execution_count": null,
   "metadata": {},
   "outputs": [],
   "source": []
  },
  {
   "cell_type": "code",
   "execution_count": null,
   "metadata": {},
   "outputs": [],
   "source": []
  }
 ],
 "metadata": {
  "kernelspec": {
   "display_name": "Python 3 (ipykernel)",
   "language": "python",
   "name": "python3"
  },
  "language_info": {
   "codemirror_mode": {
    "name": "ipython",
    "version": 3
   },
   "file_extension": ".py",
   "mimetype": "text/x-python",
   "name": "python",
   "nbconvert_exporter": "python",
   "pygments_lexer": "ipython3",
   "version": "3.10.12"
  }
 },
 "nbformat": 4,
 "nbformat_minor": 4
}
